{
 "cells": [
  {
   "cell_type": "code",
   "execution_count": 1,
   "metadata": {},
   "outputs": [],
   "source": [
    "# Lamports Vector Clock \n",
    "# CODE BY RACHIT S GARG\n",
    "# 17070124054\n",
    "# DSRM"
   ]
  },
  {
   "cell_type": "code",
   "execution_count": 15,
   "metadata": {},
   "outputs": [
    {
     "name": "stdout",
     "output_type": "stream",
     "text": [
      "enter the value for event M1\n",
      "1\n",
      "1\n",
      "1\n",
      "enter the value for event M2 \n",
      "0\n",
      "0\n",
      "0\n",
      "M2 EVENT HAPPENED BEFORE M1 EVENT\n"
     ]
    }
   ],
   "source": [
    "i  = j = count1 = count2 = 0\n",
    "m1 = []\n",
    "m2 = []\n",
    "print(\"enter the value for event M1\")\n",
    "for i in range(3):\n",
    "    m1.append(input())\n",
    "print(\"enter the value for event M2 \")\n",
    "for i  in range(3):\n",
    "    m2.append(input())\n",
    "\n",
    "for i in range(3):\n",
    "    if(i==3 ):\n",
    "        break\n",
    "    if(m1[i]<=m2[i]):\n",
    "        count1 = count1 + 1\n",
    "        i=i+1\n",
    "        \n",
    "i=j=0\n",
    "\n",
    "for i in range(3):\n",
    "    if(i==3 ):\n",
    "        break\n",
    "    if(m1[i]>=m2[i]):\n",
    "        count2 = count2 + 1\n",
    "        i=i+1\n",
    "\n",
    "if(count1==count2):\n",
    "    print(\"M1 AND M2 ARE CONCURRENT EVENTS\")\n",
    "elif(count1==3):\n",
    "    print(\"M1 EVENT HAPPENED BEFORE M2 EVENT\")\n",
    "elif(count2==3):\n",
    "    print(\"M2 EVENT HAPPENED BEFORE M1 EVENT\")\n",
    "else:\n",
    "    print(\"M1 AND M2 ARE CONCURRENT EVENTS\")"
   ]
  },
  {
   "cell_type": "code",
   "execution_count": 16,
   "metadata": {},
   "outputs": [
    {
     "name": "stdout",
     "output_type": "stream",
     "text": [
      "enter the value for event M1\n",
      "1\n",
      "2\n",
      "3\n",
      "enter the value for event M2 \n",
      "3\n",
      "2\n",
      "1\n",
      "M1 AND M2 ARE CONCURRENT EVENTS\n"
     ]
    }
   ],
   "source": [
    "i  = j = count1 = count2 = 0\n",
    "m1 = []\n",
    "m2 = []\n",
    "print(\"enter the value for event M1\")\n",
    "for i in range(3):\n",
    "    m1.append(input())\n",
    "print(\"enter the value for event M2 \")\n",
    "for i  in range(3):\n",
    "    m2.append(input())\n",
    "\n",
    "for i in range(3):\n",
    "    if(i==3 ):\n",
    "        break\n",
    "    if(m1[i]<=m2[i]):\n",
    "        count1 = count1 + 1\n",
    "        i=i+1\n",
    "        \n",
    "i=j=0\n",
    "\n",
    "for i in range(3):\n",
    "    if(i==3 ):\n",
    "        break\n",
    "    if(m1[i]>=m2[i]):\n",
    "        count2 = count2 + 1\n",
    "        i=i+1\n",
    "\n",
    "if(count1==count2):\n",
    "    print(\"M1 AND M2 ARE CONCURRENT EVENTS\")\n",
    "elif(count1==3):\n",
    "    print(\"M1 EVENT HAPPENED BEFORE M2 EVENT\")\n",
    "elif(count2==3):\n",
    "    print(\"M2 EVENT HAPPENED BEFORE M1 EVENT\")\n",
    "else:\n",
    "    print(\"M1 AND M2 ARE CONCURRENT EVENTS\")"
   ]
  },
  {
   "cell_type": "code",
   "execution_count": null,
   "metadata": {},
   "outputs": [],
   "source": []
  }
 ],
 "metadata": {
  "kernelspec": {
   "display_name": "Python 3",
   "language": "python",
   "name": "python3"
  },
  "language_info": {
   "codemirror_mode": {
    "name": "ipython",
    "version": 3
   },
   "file_extension": ".py",
   "mimetype": "text/x-python",
   "name": "python",
   "nbconvert_exporter": "python",
   "pygments_lexer": "ipython3",
   "version": "3.8.3"
  }
 },
 "nbformat": 4,
 "nbformat_minor": 4
}
