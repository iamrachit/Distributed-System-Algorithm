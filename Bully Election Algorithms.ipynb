{
 "cells": [
  {
   "cell_type": "code",
   "execution_count": 23,
   "metadata": {},
   "outputs": [],
   "source": [
    "#Bully Election Algorithms \n",
    "#Created by Rachit S Garg\n",
    "#17070124054\n",
    "#DSRM\n",
    "    "
   ]
  },
  {
   "cell_type": "code",
   "execution_count": 47,
   "metadata": {},
   "outputs": [
    {
     "name": "stdout",
     "output_type": "stream",
     "text": [
      "Election sent to Node2\n",
      "Election sent to Node3\n",
      "Election sent to Node4\n",
      "Election sent to Node5\n",
      "Election sent to Node3\n",
      "Election sent to Node4\n",
      "Election sent to Node5\n",
      "OK sent to Node1\n",
      "Election sent to Node4\n",
      "Election sent to Node5\n",
      "OK sent to Node2\n",
      "Election sent to Node5\n",
      "OK sent to Node3\n",
      "I've won sent to Node1\n",
      "I've won sent to Node2\n",
      "I've won sent to Node3\n",
      "I've won sent to Node4\n",
      "OK sent to Node4\n"
     ]
    },
    {
     "name": "stderr",
     "output_type": "stream",
     "text": [
      "<>:13: SyntaxWarning: \"is not\" with a literal. Did you mean \"!=\"?\n",
      "<>:13: SyntaxWarning: \"is not\" with a literal. Did you mean \"!=\"?\n",
      "<ipython-input-47-6c2ea28bafe0>:13: SyntaxWarning: \"is not\" with a literal. Did you mean \"!=\"?\n",
      "  if message_case==2 and id is not 1:#sending an ok mesage within the time limit\n"
     ]
    }
   ],
   "source": [
    "def process_Pool(id,message_case=0):\n",
    "    nodes_list = [1, 2, 3, 4,5] # id of the nodes in the networks\n",
    "    if message_case==1: # sending the election request, message=election\n",
    "        new_list=[]\n",
    "        for x in nodes_list:\n",
    "            if id<x:\n",
    "                new_list.append(x) # create a list of nodes with an id higher\n",
    "                #than the current node denoted by the parameter id\n",
    "        if id==len(nodes_list): # last node in the list\n",
    "             return None # theres no higher priority node\n",
    "\n",
    "        return new_list # return list of higher priority nodes\n",
    "    if message_case==2 and id is not 1:#sending an ok mesage within the time limit\n",
    "        return [nodes_list[int(id)-2] ]# return id of predecessor node in priority hierachy\n",
    "    if message_case==3: #sending an Ive won message to other nodes\n",
    "        del nodes_list[len(nodes_list)-1] # pop the highest id and form a list of recepients which is\n",
    "        #everyone else\n",
    "        return nodes_list # updated list with recepients being everyone minus the winner\n",
    "\n",
    "\n",
    "#simulate communication of nodes\n",
    "def sending_data(recepients,message): # recepients list and message to be sent\n",
    "\n",
    "    if recepients is not None:# no empty list\n",
    "        for node in recepients:\n",
    "            print(message+\" sent to Node\"+str(node)) # emulate send message via print\n",
    "\n",
    "# Construct a node\n",
    "def node(myId):\n",
    "    sending_list=process_Pool(myId,1)\n",
    "    if  sending_list is None: # meaning no node is higher and thus, this node has won\n",
    "        sending_data(process_Pool(myId,3),\"I've won\") # when the highest node wins\n",
    "    else :\n",
    "        sending_data(sending_list,\"Election\") # forward an election message to your successor in the priority list\n",
    "    sending_data(process_Pool(myId,2),\"OK\") #send data to your predecessor in the priority list\n",
    "\n",
    "#Initialize program by simulating the starting of nodes\n",
    "# by calling the node function\n",
    "node(1)\n",
    "node(2)\n",
    "node(3)\n",
    "node(4)\n",
    "node(5)"
   ]
  },
  {
   "cell_type": "code",
   "execution_count": 48,
   "metadata": {},
   "outputs": [
    {
     "name": "stdout",
     "output_type": "stream",
     "text": [
      "Election sent to Node2\n",
      "Election sent to Node3\n",
      "Election sent to Node4\n",
      "Election sent to Node5\n"
     ]
    }
   ],
   "source": [
    "node(1)"
   ]
  },
  {
   "cell_type": "code",
   "execution_count": 49,
   "metadata": {},
   "outputs": [
    {
     "name": "stdout",
     "output_type": "stream",
     "text": [
      "Election sent to Node3\n",
      "Election sent to Node4\n",
      "Election sent to Node5\n",
      "OK sent to Node1\n"
     ]
    }
   ],
   "source": [
    "node(2)"
   ]
  },
  {
   "cell_type": "code",
   "execution_count": 50,
   "metadata": {},
   "outputs": [
    {
     "name": "stdout",
     "output_type": "stream",
     "text": [
      "Election sent to Node4\n",
      "Election sent to Node5\n",
      "OK sent to Node2\n"
     ]
    }
   ],
   "source": [
    "node(3)"
   ]
  },
  {
   "cell_type": "code",
   "execution_count": 51,
   "metadata": {},
   "outputs": [
    {
     "name": "stdout",
     "output_type": "stream",
     "text": [
      "Election sent to Node5\n",
      "OK sent to Node3\n"
     ]
    }
   ],
   "source": [
    "node(4)"
   ]
  },
  {
   "cell_type": "code",
   "execution_count": 52,
   "metadata": {},
   "outputs": [
    {
     "name": "stdout",
     "output_type": "stream",
     "text": [
      "I've won sent to Node1\n",
      "I've won sent to Node2\n",
      "I've won sent to Node3\n",
      "I've won sent to Node4\n",
      "OK sent to Node4\n"
     ]
    }
   ],
   "source": [
    "node(5)"
   ]
  },
  {
   "cell_type": "code",
   "execution_count": null,
   "metadata": {},
   "outputs": [],
   "source": []
  }
 ],
 "metadata": {
  "kernelspec": {
   "display_name": "Python 3",
   "language": "python",
   "name": "python3"
  },
  "language_info": {
   "codemirror_mode": {
    "name": "ipython",
    "version": 3
   },
   "file_extension": ".py",
   "mimetype": "text/x-python",
   "name": "python",
   "nbconvert_exporter": "python",
   "pygments_lexer": "ipython3",
   "version": "3.8.3"
  }
 },
 "nbformat": 4,
 "nbformat_minor": 4
}
