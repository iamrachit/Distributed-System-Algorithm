{
 "cells": [
  {
   "cell_type": "code",
   "execution_count": 1,
   "metadata": {},
   "outputs": [],
   "source": [
    "# Consistent Global Snapshot Detection Algorithm\n",
    "# Rachit S Garg\n",
    "# 17070124054\n",
    "# DSRM\n"
   ]
  },
  {
   "cell_type": "code",
   "execution_count": 10,
   "metadata": {},
   "outputs": [
    {
     "name": "stdout",
     "output_type": "stream",
     "text": [
      "enter the value for event M1\n",
      "3\n",
      "3\n",
      "3\n",
      "enter the value for event M2 \n",
      "2\n",
      "2\n",
      "2\n",
      "enter the value for event M3 \n",
      "1\n",
      "1\n",
      "1\n",
      "Message passing of 3 sites is unconsistant\n"
     ]
    }
   ],
   "source": [
    "i  = j = count1 = count2 = 0\n",
    "m1 = []\n",
    "m2 = []\n",
    "m3 = []\n",
    "print(\"enter the value for event M1\")\n",
    "for i in range(3):\n",
    "    m1.append(input())\n",
    "print(\"enter the value for event M2 \")\n",
    "for i  in range(3):\n",
    "    m2.append(input())\n",
    "print(\"enter the value for event M3 \")\n",
    "for i  in range(3):\n",
    "    m3.append(input())\n",
    "    \n",
    "if(m1[1]>=m2[1] and m1[1]>=m3[1] and m2[2]>=m1[2] and m2[2]>=m3[2] and m3[3]>=m1[3] and m3[3]>=m2[3]):\n",
    "    print(\"Message passing of 3 sites is consistant\")\n",
    "else:\n",
    "    print(\"Message passing of 3 sites is unconsistant\")\n",
    "        \n",
    "\n",
    "    "
   ]
  },
  {
   "cell_type": "code",
   "execution_count": 7,
   "metadata": {},
   "outputs": [
    {
     "name": "stdout",
     "output_type": "stream",
     "text": [
      "enter the value for event M1\n",
      "2\n",
      "1\n",
      "1\n",
      "enter the value for event M2 \n",
      "1\n",
      "1\n",
      "2\n",
      "enter the value for event M3 \n",
      "1\n",
      "0\n",
      "2\n",
      "Message passing of 3 sites is consistant\n"
     ]
    }
   ],
   "source": [
    "i  = 0\n",
    "m1 = []\n",
    "m2 = []\n",
    "m3 = []\n",
    "print(\"enter the value for event M1\")\n",
    "for i in range(3):\n",
    "    m1.append(input())\n",
    "print(\"enter the value for event M2 \")\n",
    "for i  in range(3):\n",
    "    m2.append(input())\n",
    "print(\"enter the value for event M3 \")\n",
    "for i  in range(3):\n",
    "    m3.append(input())\n",
    "    \n",
    "if m1[0]>=m2[0] and m1[0]>=m3[0]:\n",
    "    if m2[1]>=m1[1] and m2[1]>=m3[1]:\n",
    "        if m3[2]>=m1[2] and m3[2]>=m2[2]:\n",
    "            print(\"Message passing of 3 sites is consistant\")\n",
    "\n",
    "    "
   ]
  },
  {
   "cell_type": "code",
   "execution_count": null,
   "metadata": {},
   "outputs": [],
   "source": []
  }
 ],
 "metadata": {
  "kernelspec": {
   "display_name": "Python 3",
   "language": "python",
   "name": "python3"
  },
  "language_info": {
   "codemirror_mode": {
    "name": "ipython",
    "version": 3
   },
   "file_extension": ".py",
   "mimetype": "text/x-python",
   "name": "python",
   "nbconvert_exporter": "python",
   "pygments_lexer": "ipython3",
   "version": "3.8.3"
  }
 },
 "nbformat": 4,
 "nbformat_minor": 4
}
